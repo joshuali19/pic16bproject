{
 "cells": [
  {
   "cell_type": "code",
   "execution_count": 14,
   "id": "994b1174-a52c-47b3-8bca-365decce0471",
   "metadata": {},
   "outputs": [
    {
     "name": "stdout",
     "output_type": "stream",
     "text": [
      "Extracting all the files now...\n",
      "data/mpd.slice.549000-549999.json\n",
      "data/mpd.slice.613000-613999.json\n",
      "data/mpd.slice.115000-115999.json\n",
      "data/mpd.slice.778000-778999.json\n",
      "data/mpd.slice.290000-290999.json\n",
      "data/mpd.slice.596000-596999.json\n",
      "data/mpd.slice.324000-324999.json\n",
      "data/mpd.slice.422000-422999.json\n",
      "data/mpd.slice.974000-974999.json\n",
      "data/mpd.slice.679000-679999.json\n",
      "data/mpd.slice.7000-7999.json\n",
      "data/mpd.slice.391000-391999.json\n",
      "data/mpd.slice.497000-497999.json\n",
      "data/mpd.slice.225000-225999.json\n",
      "data/mpd.slice.523000-523999.json\n",
      "data/mpd.slice.875000-875999.json\n",
      "data/mpd.slice.448000-448999.json\n",
      "data/mpd.slice.712000-712999.json\n",
      "data/mpd.slice.193000-193999.json\n",
      "data/mpd.slice.38000-38999.json\n",
      "data/mpd.slice.695000-695999.json\n",
      "Done!\n"
     ]
    }
   ],
   "source": [
    "# importing required modules\n",
    "from zipfile import ZipFile\n",
    "\n",
    "# specifying the zip file name\n",
    "file_name = \"spotify_million_playlist_dataset.zip\"\n",
    "\n",
    "# opening the zip file in READ mode\n",
    "with ZipFile(file_name, 'r') as zip:\n",
    "    # printing all the contents of the zip file\n",
    "    # zip.printdir()\n",
    "    i = 0\n",
    "    print('Extracting all the files now...')\n",
    "    for name in zip.namelist():\n",
    "        if i > 20:\n",
    "            break\n",
    "        \n",
    "        # get the first 20 data files\n",
    "        if name.startswith(\"data/m\"):\n",
    "            zip.extract(name)\n",
    "            print(name)\n",
    "            i += 1\n",
    "       \n",
    "    print('Done!')\n",
    "    # extracting all the files\n",
    "    # print('Extracting all the files now...')\n",
    "    # zip.extractall()\n",
    "    # print('Done!')"
   ]
  },
  {
   "cell_type": "code",
   "execution_count": 15,
   "id": "bb6e0439-eb93-46f7-91fa-2fa036c18395",
   "metadata": {},
   "outputs": [
    {
     "name": "stdout",
     "output_type": "stream",
     "text": [
      "mpd.slice.115000-115999.json\n",
      "mpd.slice.193000-193999.json\n",
      "mpd.slice.225000-225999.json\n",
      "mpd.slice.290000-290999.json\n",
      "mpd.slice.324000-324999.json\n",
      "mpd.slice.38000-38999.json\n",
      "mpd.slice.391000-391999.json\n",
      "mpd.slice.422000-422999.json\n",
      "mpd.slice.448000-448999.json\n",
      "mpd.slice.497000-497999.json\n",
      "mpd.slice.523000-523999.json\n",
      "mpd.slice.549000-549999.json\n",
      "mpd.slice.596000-596999.json\n",
      "mpd.slice.613000-613999.json\n",
      "mpd.slice.679000-679999.json\n",
      "mpd.slice.695000-695999.json\n",
      "mpd.slice.7000-7999.json\n",
      "mpd.slice.712000-712999.json\n",
      "mpd.slice.778000-778999.json\n",
      "mpd.slice.875000-875999.json\n"
     ]
    }
   ],
   "source": [
    "import os\n",
    "import json\n",
    "def loop_slices(path, num_slices=20):\n",
    "    cnt = 0\n",
    "    mpd_playlists = []\n",
    "    filenames = os.listdir(path)\n",
    "    for fname in sorted(filenames):\n",
    "        print(fname)\n",
    "        if fname.startswith(\"mpd.slice.\") and fname.endswith(\".json\"):\n",
    "            cnt += 1\n",
    "            fullpath = os.sep.join((path, fname))\n",
    "            f = open(fullpath)\n",
    "            js = f.read()\n",
    "            f.close()\n",
    "            current_slice = json.loads(js)\n",
    "            # Create a list of all playlists\n",
    "            for playlist in current_slice['playlists']:\n",
    "                mpd_playlists.append(playlist)\n",
    "            if cnt == num_slices:\n",
    "                break\n",
    "    return mpd_playlists\n",
    "# Path where the json files are extracted\n",
    "path = 'data/'\n",
    "playlists = loop_slices(path, num_slices=20)"
   ]
  },
  {
   "cell_type": "code",
   "execution_count": 46,
   "id": "e38c5478-6875-47a4-addd-80be5e7bbddd",
   "metadata": {},
   "outputs": [],
   "source": [
    "def extract_track_attr(playlists, track_attr, playlist_limit = 20, value_limit = None):\n",
    "    '''\n",
    "    gets the track attribute for each playlist, with a limit\n",
    "    @ input:\n",
    "    - playlists (list): list of playlists\n",
    "    - track_attr (str): which track attribute you would like to extract (default 20)\n",
    "    - value_limit (int): how many entries to get (default None)\n",
    "    @ output:\n",
    "    - attr (list of lists): list of attributes across multiple playlists\n",
    "    '''\n",
    "    attr = []\n",
    "    for playlist in playlists:\n",
    "        play_attr = []\n",
    "        for track in playlist['tracks']:\n",
    "            play_attr.append(track[track_attr])\n",
    "            if (value_limit is not None) and (len(play_attr) >= value_limit):\n",
    "                break\n",
    "        attr.append(play_attr)\n",
    "        if (playlist_limit is not None) and (len(attr) >= playlist_limit):\n",
    "            break\n",
    "    return attr\n",
    "    "
   ]
  },
  {
   "cell_type": "code",
   "execution_count": 48,
   "id": "74bc85e3-51ba-4e6b-ae09-9fbe0983e291",
   "metadata": {},
   "outputs": [],
   "source": [
    "artists = extract_track_attr(playlists, 'artist_name', None, None)"
   ]
  },
  {
   "cell_type": "code",
   "execution_count": 52,
   "id": "8de0ef35-fff1-495d-a3d8-a853881f4544",
   "metadata": {},
   "outputs": [],
   "source": [
    "from collections import Counter"
   ]
  },
  {
   "cell_type": "code",
   "execution_count": 64,
   "id": "bcabe972-8221-4e8a-8f32-6437132b0df4",
   "metadata": {},
   "outputs": [],
   "source": [
    "unique_artists = dict(Counter(artists[0]))\n",
    "\n",
    "unique_artists = dict(sorted(unique_artists.items(), key=lambda x:x[1], reverse = True))"
   ]
  },
  {
   "cell_type": "code",
   "execution_count": 78,
   "id": "9f993d9b-3e54-480f-b4e0-d85624a905a9",
   "metadata": {},
   "outputs": [
    {
     "data": {
      "image/png": "[encoded data removed]",
      "text/plain": [
       "<Figure size 640x480 with 1 Axes>"
      ]
     },
     "metadata": {},
     "output_type": "display_data"
    }
   ],
   "source": [
    "from matplotlib import pyplot as plt\n",
    "\n",
    "t10_keys = list(unique_artists.keys())[0:10]\n",
    "t10_vals = list(unique_artists.values())[0:10]\n",
    "plt.bar(x=t10_keys, height = t10_vals)\n",
    "plt.show()"
   ]
  },
  {
   "cell_type": "code",
   "execution_count": null,
   "id": "d1784d2e-598d-425c-9efa-381541446d52",
   "metadata": {},
   "outputs": [],
   "source": []
  }
 ],
 "metadata": {
  "kernelspec": {
   "display_name": "Python [conda env:PIC16B] *",
   "language": "python",
   "name": "conda-env-PIC16B-py"
  },
  "language_info": {
   "codemirror_mode": {
    "name": "ipython",
    "version": 3
   },
   "file_extension": ".py",
   "mimetype": "text/x-python",
   "name": "python",
   "nbconvert_exporter": "python",
   "pygments_lexer": "ipython3",
   "version": "3.8.15"
  }
 },
 "nbformat": 4,
 "nbformat_minor": 5
}
