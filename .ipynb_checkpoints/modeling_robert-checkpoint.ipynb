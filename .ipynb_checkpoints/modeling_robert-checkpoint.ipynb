{
 "cells": [
  {
   "cell_type": "markdown",
   "id": "1bb1e262-3812-4f3f-b445-ed76a3ae6ddc",
   "metadata": {},
   "source": [
    "## Extract Data"
   ]
  },
  {
   "cell_type": "code",
   "execution_count": 2,
   "id": "994b1174-a52c-47b3-8bca-365decce0471",
   "metadata": {
    "tags": []
   },
   "outputs": [],
   "source": [
    "# importing required modules\n",
    "from zipfile import ZipFile\n",
    "\n",
    "# ***** RUN THIS ONCE *****\n",
    "# specifying the zip file name\n",
    "# file_name = \"spotify_million_playlist_dataset.zip\"\n",
    "\n",
    "# opening the zip file in READ mode\n",
    "# with ZipFile(file_name, 'r') as zip:\n",
    "    # printing all the contents of the zip file\n",
    "    # zip.printdir()\n",
    "#     i = 0\n",
    "#     print('Extracting all the files now...')\n",
    "#     for name in zip.namelist():\n",
    "#         if i > 20:\n",
    "#             break\n",
    "        \n",
    "        # get the first 20 data files\n",
    " #        if name.startswith(\"data/m\"):\n",
    "#             zip.extract(name)\n",
    "#             print(name)\n",
    "#             i += 1\n",
    "       \n",
    "#     print('Done!')\n",
    "    # extracting all the files\n",
    "    # print('Extracting all the files now...')\n",
    "    # zip.extractall()\n",
    "    # print('Done!')"
   ]
  },
  {
   "cell_type": "code",
   "execution_count": 1,
   "id": "bb6e0439-eb93-46f7-91fa-2fa036c18395",
   "metadata": {},
   "outputs": [
    {
     "name": "stdout",
     "output_type": "stream",
     "text": [
      "mpd.slice.0-999.json\n",
      "mpd.slice.1000-1999.json\n",
      "mpd.slice.10000-10999.json\n"
     ]
    }
   ],
   "source": [
    "import os\n",
    "import json\n",
    "def loop_slices(path, num_slices=20):\n",
    "    cnt = 0\n",
    "    mpd_playlists = []\n",
    "    filenames = os.listdir(path)\n",
    "    for fname in sorted(filenames):\n",
    "        print(fname)\n",
    "        if fname.startswith(\"mpd.slice.\") and fname.endswith(\".json\"):\n",
    "            cnt += 1\n",
    "            fullpath = os.sep.join((path, fname))\n",
    "            f = open(fullpath)\n",
    "            js = f.read()\n",
    "            f.close()\n",
    "            current_slice = json.loads(js)\n",
    "            # Create a list of all playlists\n",
    "            for playlist in current_slice['playlists']:\n",
    "                mpd_playlists.append(playlist)\n",
    "            if cnt == num_slices:\n",
    "                break\n",
    "    return mpd_playlists\n",
    "# Path where the json files are extracted\n",
    "path = '../spotify_data/data/'\n",
    "playlists = loop_slices(path, num_slices=3)"
   ]
  },
  {
   "cell_type": "markdown",
   "id": "9aeadc2b-f5a9-4f7a-9a8a-592b4730780b",
   "metadata": {},
   "source": [
    "## Get Spotify API Data"
   ]
  },
  {
   "cell_type": "code",
   "execution_count": 2,
   "id": "652de0b3-93b3-486a-a6b1-416c448150a6",
   "metadata": {},
   "outputs": [],
   "source": [
    "import spotipy\n",
    "from spotipy.oauth2 import SpotifyClientCredentials\n",
    "import pandas as pd\n",
    "# from tqdm import tqdm\n",
    "# Spotify credentials\n",
    "os.environ[\"SPOTIPY_CLIENT_ID\"] = \"***\"\n",
    "os.environ[\"SPOTIPY_CLIENT_SECRET\"] = \"***\"\n",
    "os.environ['SPOTIPY_REDIRECT_URI'] = \"http://localhost:5001\"\n",
    "sp = spotipy.Spotify(client_credentials_manager =      \n",
    "                     SpotifyClientCredentials())\n",
    "cols_to_keep = ['danceability', 'energy', 'key', 'loudness', 'mode', 'speechiness', 'acousticness', 'instrumentalness', 'liveness', 'valence', 'tempo', 'duration_ms', 'time_signature']\n",
    "dfs = []\n",
    "for playlist in playlists[0:5]:\n",
    "    audio_feats = []\n",
    "    for track in playlist['tracks']:\n",
    "        track_uri = track['track_uri'].split(\":\")[2]\n",
    "        feature = sp.audio_features(track_uri)\n",
    "        if feature:\n",
    "            audio_feats.append(feature[0])\n",
    "    feats = pd.DataFrame(audio_feats)[cols_to_keep]\n",
    "    feats['name'] = playlist['name']\n",
    "    feats['pid'] = playlist['pid']\n",
    "    # avg_feats = pd.DataFrame(audio_feats)[cols_to_keep].mean()\n",
    "    # avg_feats['name'] = playlist['name']\n",
    "    # avg_feats['pid'] = playlist['pid']\n",
    "    dfs.append(feats.T)"
   ]
  },
  {
   "cell_type": "code",
   "execution_count": 3,
   "id": "66e7124b",
   "metadata": {
    "scrolled": true
   },
   "outputs": [
    {
     "data": {
      "text/html": [
       "<div>\n",
       "<style scoped>\n",
       "    .dataframe tbody tr th:only-of-type {\n",
       "        vertical-align: middle;\n",
       "    }\n",
       "\n",
       "    .dataframe tbody tr th {\n",
       "        vertical-align: top;\n",
       "    }\n",
       "\n",
       "    .dataframe thead th {\n",
       "        text-align: right;\n",
       "    }\n",
       "</style>\n",
       "<table border=\"1\" class=\"dataframe\">\n",
       "  <thead>\n",
       "    <tr style=\"text-align: right;\">\n",
       "      <th></th>\n",
       "      <th>danceability</th>\n",
       "      <th>energy</th>\n",
       "      <th>key</th>\n",
       "      <th>loudness</th>\n",
       "      <th>mode</th>\n",
       "      <th>speechiness</th>\n",
       "      <th>acousticness</th>\n",
       "      <th>instrumentalness</th>\n",
       "      <th>liveness</th>\n",
       "      <th>valence</th>\n",
       "      <th>tempo</th>\n",
       "      <th>duration_ms</th>\n",
       "      <th>time_signature</th>\n",
       "    </tr>\n",
       "  </thead>\n",
       "  <tbody>\n",
       "    <tr>\n",
       "      <th>0</th>\n",
       "      <td>0.904</td>\n",
       "      <td>0.813</td>\n",
       "      <td>4</td>\n",
       "      <td>-7.105</td>\n",
       "      <td>0</td>\n",
       "      <td>0.121</td>\n",
       "      <td>0.0311</td>\n",
       "      <td>0.00697</td>\n",
       "      <td>0.0471</td>\n",
       "      <td>0.81</td>\n",
       "      <td>125.461</td>\n",
       "      <td>226864</td>\n",
       "      <td>4</td>\n",
       "    </tr>\n",
       "    <tr>\n",
       "      <th>1</th>\n",
       "      <td>0.774</td>\n",
       "      <td>0.838</td>\n",
       "      <td>5</td>\n",
       "      <td>-3.914</td>\n",
       "      <td>0</td>\n",
       "      <td>0.114</td>\n",
       "      <td>0.0249</td>\n",
       "      <td>0.025</td>\n",
       "      <td>0.242</td>\n",
       "      <td>0.924</td>\n",
       "      <td>143.04</td>\n",
       "      <td>198800</td>\n",
       "      <td>4</td>\n",
       "    </tr>\n",
       "    <tr>\n",
       "      <th>2</th>\n",
       "      <td>0.664</td>\n",
       "      <td>0.758</td>\n",
       "      <td>2</td>\n",
       "      <td>-6.583</td>\n",
       "      <td>0</td>\n",
       "      <td>0.21</td>\n",
       "      <td>0.00238</td>\n",
       "      <td>0.0</td>\n",
       "      <td>0.0598</td>\n",
       "      <td>0.701</td>\n",
       "      <td>99.259</td>\n",
       "      <td>235933</td>\n",
       "      <td>4</td>\n",
       "    </tr>\n",
       "    <tr>\n",
       "      <th>3</th>\n",
       "      <td>0.892</td>\n",
       "      <td>0.714</td>\n",
       "      <td>4</td>\n",
       "      <td>-6.055</td>\n",
       "      <td>0</td>\n",
       "      <td>0.141</td>\n",
       "      <td>0.201</td>\n",
       "      <td>0.000234</td>\n",
       "      <td>0.0521</td>\n",
       "      <td>0.817</td>\n",
       "      <td>100.972</td>\n",
       "      <td>267267</td>\n",
       "      <td>4</td>\n",
       "    </tr>\n",
       "    <tr>\n",
       "      <th>4</th>\n",
       "      <td>0.853</td>\n",
       "      <td>0.606</td>\n",
       "      <td>0</td>\n",
       "      <td>-4.596</td>\n",
       "      <td>1</td>\n",
       "      <td>0.0713</td>\n",
       "      <td>0.0561</td>\n",
       "      <td>0.0</td>\n",
       "      <td>0.313</td>\n",
       "      <td>0.654</td>\n",
       "      <td>94.759</td>\n",
       "      <td>227600</td>\n",
       "      <td>4</td>\n",
       "    </tr>\n",
       "    <tr>\n",
       "      <th>...</th>\n",
       "      <td>...</td>\n",
       "      <td>...</td>\n",
       "      <td>...</td>\n",
       "      <td>...</td>\n",
       "      <td>...</td>\n",
       "      <td>...</td>\n",
       "      <td>...</td>\n",
       "      <td>...</td>\n",
       "      <td>...</td>\n",
       "      <td>...</td>\n",
       "      <td>...</td>\n",
       "      <td>...</td>\n",
       "      <td>...</td>\n",
       "    </tr>\n",
       "    <tr>\n",
       "      <th>34</th>\n",
       "      <td>0.51</td>\n",
       "      <td>0.919</td>\n",
       "      <td>7</td>\n",
       "      <td>-8.244</td>\n",
       "      <td>1</td>\n",
       "      <td>0.0593</td>\n",
       "      <td>0.00205</td>\n",
       "      <td>0.809</td>\n",
       "      <td>0.068</td>\n",
       "      <td>0.386</td>\n",
       "      <td>141.053</td>\n",
       "      <td>265840</td>\n",
       "      <td>4</td>\n",
       "    </tr>\n",
       "    <tr>\n",
       "      <th>35</th>\n",
       "      <td>0.581</td>\n",
       "      <td>0.854</td>\n",
       "      <td>1</td>\n",
       "      <td>-8.485</td>\n",
       "      <td>0</td>\n",
       "      <td>0.0428</td>\n",
       "      <td>0.00197</td>\n",
       "      <td>0.0013</td>\n",
       "      <td>0.111</td>\n",
       "      <td>0.788</td>\n",
       "      <td>131.18</td>\n",
       "      <td>259840</td>\n",
       "      <td>4</td>\n",
       "    </tr>\n",
       "    <tr>\n",
       "      <th>36</th>\n",
       "      <td>0.293</td>\n",
       "      <td>0.787</td>\n",
       "      <td>5</td>\n",
       "      <td>-8.841</td>\n",
       "      <td>1</td>\n",
       "      <td>0.0438</td>\n",
       "      <td>0.00774</td>\n",
       "      <td>0.496</td>\n",
       "      <td>0.392</td>\n",
       "      <td>0.139</td>\n",
       "      <td>165.307</td>\n",
       "      <td>658987</td>\n",
       "      <td>4</td>\n",
       "    </tr>\n",
       "    <tr>\n",
       "      <th>37</th>\n",
       "      <td>0.528</td>\n",
       "      <td>0.557</td>\n",
       "      <td>2</td>\n",
       "      <td>-10.342</td>\n",
       "      <td>0</td>\n",
       "      <td>0.0315</td>\n",
       "      <td>0.245</td>\n",
       "      <td>0.0156</td>\n",
       "      <td>0.0958</td>\n",
       "      <td>0.357</td>\n",
       "      <td>121.732</td>\n",
       "      <td>285533</td>\n",
       "      <td>4</td>\n",
       "    </tr>\n",
       "    <tr>\n",
       "      <th>38</th>\n",
       "      <td>0.603</td>\n",
       "      <td>0.851</td>\n",
       "      <td>0</td>\n",
       "      <td>-8.574</td>\n",
       "      <td>0</td>\n",
       "      <td>0.0584</td>\n",
       "      <td>0.0251</td>\n",
       "      <td>0.000017</td>\n",
       "      <td>0.318</td>\n",
       "      <td>0.627</td>\n",
       "      <td>143.218</td>\n",
       "      <td>286227</td>\n",
       "      <td>4</td>\n",
       "    </tr>\n",
       "  </tbody>\n",
       "</table>\n",
       "<p>91 rows × 13 columns</p>\n",
       "</div>"
      ],
      "text/plain": [
       "   danceability energy key loudness mode speechiness acousticness  \\\n",
       "0         0.904  0.813   4   -7.105    0       0.121       0.0311   \n",
       "1         0.774  0.838   5   -3.914    0       0.114       0.0249   \n",
       "2         0.664  0.758   2   -6.583    0        0.21      0.00238   \n",
       "3         0.892  0.714   4   -6.055    0       0.141        0.201   \n",
       "4         0.853  0.606   0   -4.596    1      0.0713       0.0561   \n",
       "..          ...    ...  ..      ...  ...         ...          ...   \n",
       "34         0.51  0.919   7   -8.244    1      0.0593      0.00205   \n",
       "35        0.581  0.854   1   -8.485    0      0.0428      0.00197   \n",
       "36        0.293  0.787   5   -8.841    1      0.0438      0.00774   \n",
       "37        0.528  0.557   2  -10.342    0      0.0315        0.245   \n",
       "38        0.603  0.851   0   -8.574    0      0.0584       0.0251   \n",
       "\n",
       "   instrumentalness liveness valence    tempo duration_ms time_signature  \n",
       "0           0.00697   0.0471    0.81  125.461      226864              4  \n",
       "1             0.025    0.242   0.924   143.04      198800              4  \n",
       "2               0.0   0.0598   0.701   99.259      235933              4  \n",
       "3          0.000234   0.0521   0.817  100.972      267267              4  \n",
       "4               0.0    0.313   0.654   94.759      227600              4  \n",
       "..              ...      ...     ...      ...         ...            ...  \n",
       "34            0.809    0.068   0.386  141.053      265840              4  \n",
       "35           0.0013    0.111   0.788   131.18      259840              4  \n",
       "36            0.496    0.392   0.139  165.307      658987              4  \n",
       "37           0.0156   0.0958   0.357  121.732      285533              4  \n",
       "38         0.000017    0.318   0.627  143.218      286227              4  \n",
       "\n",
       "[91 rows x 13 columns]"
      ]
     },
     "execution_count": 3,
     "metadata": {},
     "output_type": "execute_result"
    }
   ],
   "source": [
    "cluster_df = pd.concat(dfs[0:2], axis = 1).T\n",
    "cluster_df = cluster_df.iloc[:, 0:(len(cluster_df.columns)-1)]\n",
    "X = cluster_df.drop(columns = ['name'])\n",
    "y = cluster_df[['name']]\n",
    "X"
   ]
  },
  {
   "cell_type": "code",
   "execution_count": 8,
   "id": "20ed7705",
   "metadata": {
    "scrolled": true
   },
   "outputs": [
    {
     "data": {
      "application/vnd.plotly.v1+json": {
       "config": {
        "plotlyServerURL": "https://plot.ly"
       },
       "data": [
        {
         "hovertemplate": "danceability=%{x}<br>energy=%{y}<br>acousticness=%{z}<br>cluster=%{marker.color}<extra></extra>",
         "legendgroup": "",
         "marker": {
          "color": [
           2,
           2,
           2,
           0,
           2,
           2,
           2,
           2,
           0,
           2,
           2,
           2,
           2,
           2,
           2,
           2,
           2,
           2,
           2,
           2,
           0,
           0,
           2,
           2,
           2,
           2,
           2,
           2,
           2,
           2,
           2,
           2,
           2,
           0,
           2,
           2,
           2,
           2,
           2,
           2,
           2,
           2,
           2,
           2,
           2,
           2,
           2,
           2,
           2,
           2,
           2,
           2,
           2,
           3,
           3,
           3,
           2,
           3,
           2,
           2,
           3,
           0,
           0,
           2,
           0,
           1,
           0,
           1,
           0,
           0,
           0,
           1,
           0,
           1,
           2,
           0,
           0,
           0,
           0,
           1,
           2,
           0,
           3,
           2,
           0,
           0,
           0,
           2,
           1,
           0,
           0
          ],
          "coloraxis": "coloraxis",
          "symbol": "circle"
         },
         "mode": "markers",
         "name": "",
         "scene": "scene",
         "showlegend": false,
         "type": "scatter3d",
         "x": [
          0.904,
          0.774,
          0.664,
          0.892,
          0.853,
          0.881,
          0.662,
          0.57,
          0.713,
          0.727,
          0.808,
          0.71,
          0.66,
          0.687,
          0.803,
          0.775,
          0.487,
          0.846,
          0.705,
          0.771,
          0.717,
          0.835,
          0.728,
          0.571,
          0.536,
          0.659,
          0.619,
          0.624,
          0.615,
          0.673,
          0.652,
          0.423,
          0.706,
          0.669,
          0.829,
          0.709,
          0.58,
          0.447,
          0.356,
          0.442,
          0.938,
          0.719,
          0.465,
          0.73,
          0.559,
          0.725,
          0.695,
          0.747,
          0.485,
          0.414,
          0.35,
          0.423,
          0.815,
          0.343,
          0.414,
          0.522,
          0.0849,
          0.283,
          0.492,
          0.493,
          0.536,
          0.638,
          0.68,
          0.609,
          0.698,
          0.338,
          0.54,
          0.444,
          0.633,
          0.566,
          0.63,
          0.249,
          0.419,
          0.435,
          0.473,
          0.482,
          0.414,
          0.597,
          0.377,
          0.48,
          0.363,
          0.454,
          0.64,
          0.482,
          0.536,
          0.528,
          0.51,
          0.581,
          0.293,
          0.528,
          0.603
         ],
         "y": [
          0.813,
          0.838,
          0.758,
          0.714,
          0.606,
          0.788,
          0.507,
          0.821,
          0.678,
          0.974,
          0.97,
          0.553,
          0.666,
          0.71,
          0.454,
          0.731,
          0.9,
          0.482,
          0.796,
          0.685,
          0.733,
          0.687,
          0.801,
          0.89,
          0.612,
          0.869,
          0.87,
          0.976,
          0.711,
          0.683,
          0.698,
          0.94,
          0.751,
          0.822,
          0.627,
          0.745,
          0.75,
          0.848,
          0.924,
          0.893,
          0.735,
          0.839,
          0.954,
          0.848,
          0.845,
          0.732,
          0.903,
          0.878,
          0.823,
          0.936,
          0.909,
          0.94,
          0.438,
          0.975,
          0.959,
          0.205,
          0.956,
          0.925,
          0.97,
          0.969,
          0.458,
          0.49,
          0.413,
          0.435,
          0.649,
          0.34,
          0.423,
          0.793,
          0.858,
          0.673,
          0.616,
          0.834,
          0.677,
          0.657,
          0.898,
          0.786,
          0.404,
          0.605,
          0.681,
          0.536,
          0.554,
          0.91,
          0.663,
          0.601,
          0.901,
          0.921,
          0.919,
          0.854,
          0.787,
          0.557,
          0.851
         ],
         "z": [
          0.0311,
          0.0249,
          0.00238,
          0.201,
          0.0561,
          0.0212,
          0.257,
          0.178,
          0.273,
          0.103,
          0.0569,
          0.00206,
          0.0759,
          0.0283,
          0.352,
          0.189,
          6.79e-05,
          0.0246,
          0.0708,
          0.00543,
          0.0398,
          0.101,
          0.00349,
          0.00509,
          0.119,
          0.00357,
          0.41,
          0.004,
          0.0444,
          0.522,
          0.00112,
          0.00166,
          0.173,
          0.0339,
          0.00663,
          0.0225,
          0.159,
          0.033,
          0.00101,
          0.00844,
          0.00952,
          0.00241,
          0.000346,
          0.0494,
          0.222,
          0.0501,
          0.0137,
          0.343,
          0.00981,
          0.00136,
          0.0024,
          0.00166,
          0.216,
          3.23e-05,
          2.31e-05,
          0.0534,
          5.24e-05,
          0.000748,
          9.65e-06,
          0.201,
          0.893,
          0.271,
          0.177,
          0.522,
          0.15,
          0.58,
          0.294,
          0.0107,
          0.208,
          0.565,
          0.463,
          0.0738,
          0.00101,
          0.00983,
          0.00783,
          0.00321,
          0.271,
          0.181,
          0.00088,
          0.488,
          0.0885,
          0.0866,
          0.201,
          0.00853,
          0.00145,
          0.0174,
          0.00205,
          0.00197,
          0.00774,
          0.245,
          0.0251
         ]
        }
       ],
       "layout": {
        "autosize": true,
        "coloraxis": {
         "colorbar": {
          "title": {
           "text": "cluster"
          }
         },
         "colorscale": [
          [
           0,
           "#0d0887"
          ],
          [
           0.1111111111111111,
           "#46039f"
          ],
          [
           0.2222222222222222,
           "#7201a8"
          ],
          [
           0.3333333333333333,
           "#9c179e"
          ],
          [
           0.4444444444444444,
           "#bd3786"
          ],
          [
           0.5555555555555556,
           "#d8576b"
          ],
          [
           0.6666666666666666,
           "#ed7953"
          ],
          [
           0.7777777777777778,
           "#fb9f3a"
          ],
          [
           0.8888888888888888,
           "#fdca26"
          ],
          [
           1,
           "#f0f921"
          ]
         ]
        },
        "legend": {
         "tracegroupgap": 0
        },
        "margin": {
         "t": 60
        },
        "scene": {
         "aspectmode": "auto",
         "aspectratio": {
          "x": 1.0186685857720816,
          "y": 0.9206347199979777,
          "z": 1.0663008052310585
         },
         "domain": {
          "x": [
           0,
           1
          ],
          "y": [
           0,
           1
          ]
         },
         "xaxis": {
          "title": {
           "text": "danceability"
          },
          "type": "linear"
         },
         "yaxis": {
          "title": {
           "text": "energy"
          },
          "type": "linear"
         },
         "zaxis": {
          "title": {
           "text": "acousticness"
          },
          "type": "linear"
         }
        },
        "template": {
         "data": {
          "bar": [
           {
            "error_x": {
             "color": "#2a3f5f"
            },
            "error_y": {
             "color": "#2a3f5f"
            },
            "marker": {
             "line": {
              "color": "#E5ECF6",
              "width": 0.5
             },
             "pattern": {
              "fillmode": "overlay",
              "size": 10,
              "solidity": 0.2
             }
            },
            "type": "bar"
           }
          ],
          "barpolar": [
           {
            "marker": {
             "line": {
              "color": "#E5ECF6",
              "width": 0.5
             },
             "pattern": {
              "fillmode": "overlay",
              "size": 10,
              "solidity": 0.2
             }
            },
            "type": "barpolar"
           }
          ],
          "carpet": [
           {
            "aaxis": {
             "endlinecolor": "#2a3f5f",
             "gridcolor": "white",
             "linecolor": "white",
             "minorgridcolor": "white",
             "startlinecolor": "#2a3f5f"
            },
            "baxis": {
             "endlinecolor": "#2a3f5f",
             "gridcolor": "white",
             "linecolor": "white",
             "minorgridcolor": "white",
             "startlinecolor": "#2a3f5f"
            },
            "type": "carpet"
           }
          ],
          "choropleth": [
           {
            "colorbar": {
             "outlinewidth": 0,
             "ticks": ""
            },
            "type": "choropleth"
           }
          ],
          "contour": [
           {
            "colorbar": {
             "outlinewidth": 0,
             "ticks": ""
            },
            "colorscale": [
             [
              0,
              "#0d0887"
             ],
             [
              0.1111111111111111,
              "#46039f"
             ],
             [
              0.2222222222222222,
              "#7201a8"
             ],
             [
              0.3333333333333333,
              "#9c179e"
             ],
             [
              0.4444444444444444,
              "#bd3786"
             ],
             [
              0.5555555555555556,
              "#d8576b"
             ],
             [
              0.6666666666666666,
              "#ed7953"
             ],
             [
              0.7777777777777778,
              "#fb9f3a"
             ],
             [
              0.8888888888888888,
              "#fdca26"
             ],
             [
              1,
              "#f0f921"
             ]
            ],
            "type": "contour"
           }
          ],
          "contourcarpet": [
           {
            "colorbar": {
             "outlinewidth": 0,
             "ticks": ""
            },
            "type": "contourcarpet"
           }
          ],
          "heatmap": [
           {
            "colorbar": {
             "outlinewidth": 0,
             "ticks": ""
            },
            "colorscale": [
             [
              0,
              "#0d0887"
             ],
             [
              0.1111111111111111,
              "#46039f"
             ],
             [
              0.2222222222222222,
              "#7201a8"
             ],
             [
              0.3333333333333333,
              "#9c179e"
             ],
             [
              0.4444444444444444,
              "#bd3786"
             ],
             [
              0.5555555555555556,
              "#d8576b"
             ],
             [
              0.6666666666666666,
              "#ed7953"
             ],
             [
              0.7777777777777778,
              "#fb9f3a"
             ],
             [
              0.8888888888888888,
              "#fdca26"
             ],
             [
              1,
              "#f0f921"
             ]
            ],
            "type": "heatmap"
           }
          ],
          "heatmapgl": [
           {
            "colorbar": {
             "outlinewidth": 0,
             "ticks": ""
            },
            "colorscale": [
             [
              0,
              "#0d0887"
             ],
             [
              0.1111111111111111,
              "#46039f"
             ],
             [
              0.2222222222222222,
              "#7201a8"
             ],
             [
              0.3333333333333333,
              "#9c179e"
             ],
             [
              0.4444444444444444,
              "#bd3786"
             ],
             [
              0.5555555555555556,
              "#d8576b"
             ],
             [
              0.6666666666666666,
              "#ed7953"
             ],
             [
              0.7777777777777778,
              "#fb9f3a"
             ],
             [
              0.8888888888888888,
              "#fdca26"
             ],
             [
              1,
              "#f0f921"
             ]
            ],
            "type": "heatmapgl"
           }
          ],
          "histogram": [
           {
            "marker": {
             "pattern": {
              "fillmode": "overlay",
              "size": 10,
              "solidity": 0.2
             }
            },
            "type": "histogram"
           }
          ],
          "histogram2d": [
           {
            "colorbar": {
             "outlinewidth": 0,
             "ticks": ""
            },
            "colorscale": [
             [
              0,
              "#0d0887"
             ],
             [
              0.1111111111111111,
              "#46039f"
             ],
             [
              0.2222222222222222,
              "#7201a8"
             ],
             [
              0.3333333333333333,
              "#9c179e"
             ],
             [
              0.4444444444444444,
              "#bd3786"
             ],
             [
              0.5555555555555556,
              "#d8576b"
             ],
             [
              0.6666666666666666,
              "#ed7953"
             ],
             [
              0.7777777777777778,
              "#fb9f3a"
             ],
             [
              0.8888888888888888,
              "#fdca26"
             ],
             [
              1,
              "#f0f921"
             ]
            ],
            "type": "histogram2d"
           }
          ],
          "histogram2dcontour": [
           {
            "colorbar": {
             "outlinewidth": 0,
             "ticks": ""
            },
            "colorscale": [
             [
              0,
              "#0d0887"
             ],
             [
              0.1111111111111111,
              "#46039f"
             ],
             [
              0.2222222222222222,
              "#7201a8"
             ],
             [
              0.3333333333333333,
              "#9c179e"
             ],
             [
              0.4444444444444444,
              "#bd3786"
             ],
             [
              0.5555555555555556,
              "#d8576b"
             ],
             [
              0.6666666666666666,
              "#ed7953"
             ],
             [
              0.7777777777777778,
              "#fb9f3a"
             ],
             [
              0.8888888888888888,
              "#fdca26"
             ],
             [
              1,
              "#f0f921"
             ]
            ],
            "type": "histogram2dcontour"
           }
          ],
          "mesh3d": [
           {
            "colorbar": {
             "outlinewidth": 0,
             "ticks": ""
            },
            "type": "mesh3d"
           }
          ],
          "parcoords": [
           {
            "line": {
             "colorbar": {
              "outlinewidth": 0,
              "ticks": ""
             }
            },
            "type": "parcoords"
           }
          ],
          "pie": [
           {
            "automargin": true,
            "type": "pie"
           }
          ],
          "scatter": [
           {
            "marker": {
             "colorbar": {
              "outlinewidth": 0,
              "ticks": ""
             }
            },
            "type": "scatter"
           }
          ],
          "scatter3d": [
           {
            "line": {
             "colorbar": {
              "outlinewidth": 0,
              "ticks": ""
             }
            },
            "marker": {
             "colorbar": {
              "outlinewidth": 0,
              "ticks": ""
             }
            },
            "type": "scatter3d"
           }
          ],
          "scattercarpet": [
           {
            "marker": {
             "colorbar": {
              "outlinewidth": 0,
              "ticks": ""
             }
            },
            "type": "scattercarpet"
           }
          ],
          "scattergeo": [
           {
            "marker": {
             "colorbar": {
              "outlinewidth": 0,
              "ticks": ""
             }
            },
            "type": "scattergeo"
           }
          ],
          "scattergl": [
           {
            "marker": {
             "colorbar": {
              "outlinewidth": 0,
              "ticks": ""
             }
            },
            "type": "scattergl"
           }
          ],
          "scattermapbox": [
           {
            "marker": {
             "colorbar": {
              "outlinewidth": 0,
              "ticks": ""
             }
            },
            "type": "scattermapbox"
           }
          ],
          "scatterpolar": [
           {
            "marker": {
             "colorbar": {
              "outlinewidth": 0,
              "ticks": ""
             }
            },
            "type": "scatterpolar"
           }
          ],
          "scatterpolargl": [
           {
            "marker": {
             "colorbar": {
              "outlinewidth": 0,
              "ticks": ""
             }
            },
            "type": "scatterpolargl"
           }
          ],
          "scatterternary": [
           {
            "marker": {
             "colorbar": {
              "outlinewidth": 0,
              "ticks": ""
             }
            },
            "type": "scatterternary"
           }
          ],
          "surface": [
           {
            "colorbar": {
             "outlinewidth": 0,
             "ticks": ""
            },
            "colorscale": [
             [
              0,
              "#0d0887"
             ],
             [
              0.1111111111111111,
              "#46039f"
             ],
             [
              0.2222222222222222,
              "#7201a8"
             ],
             [
              0.3333333333333333,
              "#9c179e"
             ],
             [
              0.4444444444444444,
              "#bd3786"
             ],
             [
              0.5555555555555556,
              "#d8576b"
             ],
             [
              0.6666666666666666,
              "#ed7953"
             ],
             [
              0.7777777777777778,
              "#fb9f3a"
             ],
             [
              0.8888888888888888,
              "#fdca26"
             ],
             [
              1,
              "#f0f921"
             ]
            ],
            "type": "surface"
           }
          ],
          "table": [
           {
            "cells": {
             "fill": {
              "color": "#EBF0F8"
             },
             "line": {
              "color": "white"
             }
            },
            "header": {
             "fill": {
              "color": "#C8D4E3"
             },
             "line": {
              "color": "white"
             }
            },
            "type": "table"
           }
          ]
         },
         "layout": {
          "annotationdefaults": {
           "arrowcolor": "#2a3f5f",
           "arrowhead": 0,
           "arrowwidth": 1
          },
          "autotypenumbers": "strict",
          "coloraxis": {
           "colorbar": {
            "outlinewidth": 0,
            "ticks": ""
           }
          },
          "colorscale": {
           "diverging": [
            [
             0,
             "#8e0152"
            ],
            [
             0.1,
             "#c51b7d"
            ],
            [
             0.2,
             "#de77ae"
            ],
            [
             0.3,
             "#f1b6da"
            ],
            [
             0.4,
             "#fde0ef"
            ],
            [
             0.5,
             "#f7f7f7"
            ],
            [
             0.6,
             "#e6f5d0"
            ],
            [
             0.7,
             "#b8e186"
            ],
            [
             0.8,
             "#7fbc41"
            ],
            [
             0.9,
             "#4d9221"
            ],
            [
             1,
             "#276419"
            ]
           ],
           "sequential": [
            [
             0,
             "#0d0887"
            ],
            [
             0.1111111111111111,
             "#46039f"
            ],
            [
             0.2222222222222222,
             "#7201a8"
            ],
            [
             0.3333333333333333,
             "#9c179e"
            ],
            [
             0.4444444444444444,
             "#bd3786"
            ],
            [
             0.5555555555555556,
             "#d8576b"
            ],
            [
             0.6666666666666666,
             "#ed7953"
            ],
            [
             0.7777777777777778,
             "#fb9f3a"
            ],
            [
             0.8888888888888888,
             "#fdca26"
            ],
            [
             1,
             "#f0f921"
            ]
           ],
           "sequentialminus": [
            [
             0,
             "#0d0887"
            ],
            [
             0.1111111111111111,
             "#46039f"
            ],
            [
             0.2222222222222222,
             "#7201a8"
            ],
            [
             0.3333333333333333,
             "#9c179e"
            ],
            [
             0.4444444444444444,
             "#bd3786"
            ],
            [
             0.5555555555555556,
             "#d8576b"
            ],
            [
             0.6666666666666666,
             "#ed7953"
            ],
            [
             0.7777777777777778,
             "#fb9f3a"
            ],
            [
             0.8888888888888888,
             "#fdca26"
            ],
            [
             1,
             "#f0f921"
            ]
           ]
          },
          "colorway": [
           "#636efa",
           "#EF553B",
           "#00cc96",
           "#ab63fa",
           "#FFA15A",
           "#19d3f3",
           "#FF6692",
           "#B6E880",
           "#FF97FF",
           "#FECB52"
          ],
          "font": {
           "color": "#2a3f5f"
          },
          "geo": {
           "bgcolor": "white",
           "lakecolor": "white",
           "landcolor": "#E5ECF6",
           "showlakes": true,
           "showland": true,
           "subunitcolor": "white"
          },
          "hoverlabel": {
           "align": "left"
          },
          "hovermode": "closest",
          "mapbox": {
           "style": "light"
          },
          "paper_bgcolor": "white",
          "plot_bgcolor": "#E5ECF6",
          "polar": {
           "angularaxis": {
            "gridcolor": "white",
            "linecolor": "white",
            "ticks": ""
           },
           "bgcolor": "#E5ECF6",
           "radialaxis": {
            "gridcolor": "white",
            "linecolor": "white",
            "ticks": ""
           }
          },
          "scene": {
           "xaxis": {
            "backgroundcolor": "#E5ECF6",
            "gridcolor": "white",
            "gridwidth": 2,
            "linecolor": "white",
            "showbackground": true,
            "ticks": "",
            "zerolinecolor": "white"
           },
           "yaxis": {
            "backgroundcolor": "#E5ECF6",
            "gridcolor": "white",
            "gridwidth": 2,
            "linecolor": "white",
            "showbackground": true,
            "ticks": "",
            "zerolinecolor": "white"
           },
           "zaxis": {
            "backgroundcolor": "#E5ECF6",
            "gridcolor": "white",
            "gridwidth": 2,
            "linecolor": "white",
            "showbackground": true,
            "ticks": "",
            "zerolinecolor": "white"
           }
          },
          "shapedefaults": {
           "line": {
            "color": "#2a3f5f"
           }
          },
          "ternary": {
           "aaxis": {
            "gridcolor": "white",
            "linecolor": "white",
            "ticks": ""
           },
           "baxis": {
            "gridcolor": "white",
            "linecolor": "white",
            "ticks": ""
           },
           "bgcolor": "#E5ECF6",
           "caxis": {
            "gridcolor": "white",
            "linecolor": "white",
            "ticks": ""
           }
          },
          "title": {
           "x": 0.05
          },
          "xaxis": {
           "automargin": true,
           "gridcolor": "white",
           "linecolor": "white",
           "ticks": "",
           "title": {
            "standoff": 15
           },
           "zerolinecolor": "white",
           "zerolinewidth": 2
          },
          "yaxis": {
           "automargin": true,
           "gridcolor": "white",
           "linecolor": "white",
           "ticks": "",
           "title": {
            "standoff": 15
           },
           "zerolinecolor": "white",
           "zerolinewidth": 2
          }
         }
        }
       }
      },
      "image/png": "[encoded data removed]",
      "text/html": [
       "<div>                            <div id=\"cd2c74aa-4c6f-4219-99bf-332f5236d342\" class=\"plotly-graph-div\" style=\"height:525px; width:100%;\"></div>            <script type=\"text/javascript\">                require([\"plotly\"], function(Plotly) {                    window.PLOTLYENV=window.PLOTLYENV || {};                                    if (document.getElementById(\"cd2c74aa-4c6f-4219-99bf-332f5236d342\")) {                    Plotly.newPlot(                        \"cd2c74aa-4c6f-4219-99bf-332f5236d342\",                        [{\"hovertemplate\":\"danceability=%{x}<br>energy=%{y}<br>acousticness=%{z}<br>cluster=%{marker.color}<extra></extra>\",\"legendgroup\":\"\",\"marker\":{\"color\":[2,2,2,0,2,2,2,2,0,2,2,2,2,2,2,2,2,2,2,2,0,0,2,2,2,2,2,2,2,2,2,2,2,0,2,2,2,2,2,2,2,2,2,2,2,2,2,2,2,2,2,2,2,3,3,3,2,3,2,2,3,0,0,2,0,1,0,1,0,0,0,1,0,1,2,0,0,0,0,1,2,0,3,2,0,0,0,2,1,0,0],\"coloraxis\":\"coloraxis\",\"symbol\":\"circle\"},\"mode\":\"markers\",\"name\":\"\",\"scene\":\"scene\",\"showlegend\":false,\"x\":[0.904,0.774,0.664,0.892,0.853,0.881,0.662,0.57,0.713,0.727,0.808,0.71,0.66,0.687,0.803,0.775,0.487,0.846,0.705,0.771,0.717,0.835,0.728,0.571,0.536,0.659,0.619,0.624,0.615,0.673,0.652,0.423,0.706,0.669,0.829,0.709,0.58,0.447,0.356,0.442,0.938,0.719,0.465,0.73,0.559,0.725,0.695,0.747,0.485,0.414,0.35,0.423,0.815,0.343,0.414,0.522,0.0849,0.283,0.492,0.493,0.536,0.638,0.68,0.609,0.698,0.338,0.54,0.444,0.633,0.566,0.63,0.249,0.419,0.435,0.473,0.482,0.414,0.597,0.377,0.48,0.363,0.454,0.64,0.482,0.536,0.528,0.51,0.581,0.293,0.528,0.603],\"y\":[0.813,0.838,0.758,0.714,0.606,0.788,0.507,0.821,0.678,0.974,0.97,0.553,0.666,0.71,0.454,0.731,0.9,0.482,0.796,0.685,0.733,0.687,0.801,0.89,0.612,0.869,0.87,0.976,0.711,0.683,0.698,0.94,0.751,0.822,0.627,0.745,0.75,0.848,0.924,0.893,0.735,0.839,0.954,0.848,0.845,0.732,0.903,0.878,0.823,0.936,0.909,0.94,0.438,0.975,0.959,0.205,0.956,0.925,0.97,0.969,0.458,0.49,0.413,0.435,0.649,0.34,0.423,0.793,0.858,0.673,0.616,0.834,0.677,0.657,0.898,0.786,0.404,0.605,0.681,0.536,0.554,0.91,0.663,0.601,0.901,0.921,0.919,0.854,0.787,0.557,0.851],\"z\":[0.0311,0.0249,0.00238,0.201,0.0561,0.0212,0.257,0.178,0.273,0.103,0.0569,0.00206,0.0759,0.0283,0.352,0.189,6.79e-05,0.0246,0.0708,0.00543,0.0398,0.101,0.00349,0.00509,0.119,0.00357,0.41,0.004,0.0444,0.522,0.00112,0.00166,0.173,0.0339,0.00663,0.0225,0.159,0.033,0.00101,0.00844,0.00952,0.00241,0.000346,0.0494,0.222,0.0501,0.0137,0.343,0.00981,0.00136,0.0024,0.00166,0.216,3.23e-05,2.31e-05,0.0534,5.24e-05,0.000748,9.65e-06,0.201,0.893,0.271,0.177,0.522,0.15,0.58,0.294,0.0107,0.208,0.565,0.463,0.0738,0.00101,0.00983,0.00783,0.00321,0.271,0.181,0.00088,0.488,0.0885,0.0866,0.201,0.00853,0.00145,0.0174,0.00205,0.00197,0.00774,0.245,0.0251],\"type\":\"scatter3d\"}],                        {\"template\":{\"data\":{\"bar\":[{\"error_x\":{\"color\":\"#2a3f5f\"},\"error_y\":{\"color\":\"#2a3f5f\"},\"marker\":{\"line\":{\"color\":\"#E5ECF6\",\"width\":0.5},\"pattern\":{\"fillmode\":\"overlay\",\"size\":10,\"solidity\":0.2}},\"type\":\"bar\"}],\"barpolar\":[{\"marker\":{\"line\":{\"color\":\"#E5ECF6\",\"width\":0.5},\"pattern\":{\"fillmode\":\"overlay\",\"size\":10,\"solidity\":0.2}},\"type\":\"barpolar\"}],\"carpet\":[{\"aaxis\":{\"endlinecolor\":\"#2a3f5f\",\"gridcolor\":\"white\",\"linecolor\":\"white\",\"minorgridcolor\":\"white\",\"startlinecolor\":\"#2a3f5f\"},\"baxis\":{\"endlinecolor\":\"#2a3f5f\",\"gridcolor\":\"white\",\"linecolor\":\"white\",\"minorgridcolor\":\"white\",\"startlinecolor\":\"#2a3f5f\"},\"type\":\"carpet\"}],\"choropleth\":[{\"colorbar\":{\"outlinewidth\":0,\"ticks\":\"\"},\"type\":\"choropleth\"}],\"contour\":[{\"colorbar\":{\"outlinewidth\":0,\"ticks\":\"\"},\"colorscale\":[[0.0,\"#0d0887\"],[0.1111111111111111,\"#46039f\"],[0.2222222222222222,\"#7201a8\"],[0.3333333333333333,\"#9c179e\"],[0.4444444444444444,\"#bd3786\"],[0.5555555555555556,\"#d8576b\"],[0.6666666666666666,\"#ed7953\"],[0.7777777777777778,\"#fb9f3a\"],[0.8888888888888888,\"#fdca26\"],[1.0,\"#f0f921\"]],\"type\":\"contour\"}],\"contourcarpet\":[{\"colorbar\":{\"outlinewidth\":0,\"ticks\":\"\"},\"type\":\"contourcarpet\"}],\"heatmap\":[{\"colorbar\":{\"outlinewidth\":0,\"ticks\":\"\"},\"colorscale\":[[0.0,\"#0d0887\"],[0.1111111111111111,\"#46039f\"],[0.2222222222222222,\"#7201a8\"],[0.3333333333333333,\"#9c179e\"],[0.4444444444444444,\"#bd3786\"],[0.5555555555555556,\"#d8576b\"],[0.6666666666666666,\"#ed7953\"],[0.7777777777777778,\"#fb9f3a\"],[0.8888888888888888,\"#fdca26\"],[1.0,\"#f0f921\"]],\"type\":\"heatmap\"}],\"heatmapgl\":[{\"colorbar\":{\"outlinewidth\":0,\"ticks\":\"\"},\"colorscale\":[[0.0,\"#0d0887\"],[0.1111111111111111,\"#46039f\"],[0.2222222222222222,\"#7201a8\"],[0.3333333333333333,\"#9c179e\"],[0.4444444444444444,\"#bd3786\"],[0.5555555555555556,\"#d8576b\"],[0.6666666666666666,\"#ed7953\"],[0.7777777777777778,\"#fb9f3a\"],[0.8888888888888888,\"#fdca26\"],[1.0,\"#f0f921\"]],\"type\":\"heatmapgl\"}],\"histogram\":[{\"marker\":{\"pattern\":{\"fillmode\":\"overlay\",\"size\":10,\"solidity\":0.2}},\"type\":\"histogram\"}],\"histogram2d\":[{\"colorbar\":{\"outlinewidth\":0,\"ticks\":\"\"},\"colorscale\":[[0.0,\"#0d0887\"],[0.1111111111111111,\"#46039f\"],[0.2222222222222222,\"#7201a8\"],[0.3333333333333333,\"#9c179e\"],[0.4444444444444444,\"#bd3786\"],[0.5555555555555556,\"#d8576b\"],[0.6666666666666666,\"#ed7953\"],[0.7777777777777778,\"#fb9f3a\"],[0.8888888888888888,\"#fdca26\"],[1.0,\"#f0f921\"]],\"type\":\"histogram2d\"}],\"histogram2dcontour\":[{\"colorbar\":{\"outlinewidth\":0,\"ticks\":\"\"},\"colorscale\":[[0.0,\"#0d0887\"],[0.1111111111111111,\"#46039f\"],[0.2222222222222222,\"#7201a8\"],[0.3333333333333333,\"#9c179e\"],[0.4444444444444444,\"#bd3786\"],[0.5555555555555556,\"#d8576b\"],[0.6666666666666666,\"#ed7953\"],[0.7777777777777778,\"#fb9f3a\"],[0.8888888888888888,\"#fdca26\"],[1.0,\"#f0f921\"]],\"type\":\"histogram2dcontour\"}],\"mesh3d\":[{\"colorbar\":{\"outlinewidth\":0,\"ticks\":\"\"},\"type\":\"mesh3d\"}],\"parcoords\":[{\"line\":{\"colorbar\":{\"outlinewidth\":0,\"ticks\":\"\"}},\"type\":\"parcoords\"}],\"pie\":[{\"automargin\":true,\"type\":\"pie\"}],\"scatter\":[{\"marker\":{\"colorbar\":{\"outlinewidth\":0,\"ticks\":\"\"}},\"type\":\"scatter\"}],\"scatter3d\":[{\"line\":{\"colorbar\":{\"outlinewidth\":0,\"ticks\":\"\"}},\"marker\":{\"colorbar\":{\"outlinewidth\":0,\"ticks\":\"\"}},\"type\":\"scatter3d\"}],\"scattercarpet\":[{\"marker\":{\"colorbar\":{\"outlinewidth\":0,\"ticks\":\"\"}},\"type\":\"scattercarpet\"}],\"scattergeo\":[{\"marker\":{\"colorbar\":{\"outlinewidth\":0,\"ticks\":\"\"}},\"type\":\"scattergeo\"}],\"scattergl\":[{\"marker\":{\"colorbar\":{\"outlinewidth\":0,\"ticks\":\"\"}},\"type\":\"scattergl\"}],\"scattermapbox\":[{\"marker\":{\"colorbar\":{\"outlinewidth\":0,\"ticks\":\"\"}},\"type\":\"scattermapbox\"}],\"scatterpolar\":[{\"marker\":{\"colorbar\":{\"outlinewidth\":0,\"ticks\":\"\"}},\"type\":\"scatterpolar\"}],\"scatterpolargl\":[{\"marker\":{\"colorbar\":{\"outlinewidth\":0,\"ticks\":\"\"}},\"type\":\"scatterpolargl\"}],\"scatterternary\":[{\"marker\":{\"colorbar\":{\"outlinewidth\":0,\"ticks\":\"\"}},\"type\":\"scatterternary\"}],\"surface\":[{\"colorbar\":{\"outlinewidth\":0,\"ticks\":\"\"},\"colorscale\":[[0.0,\"#0d0887\"],[0.1111111111111111,\"#46039f\"],[0.2222222222222222,\"#7201a8\"],[0.3333333333333333,\"#9c179e\"],[0.4444444444444444,\"#bd3786\"],[0.5555555555555556,\"#d8576b\"],[0.6666666666666666,\"#ed7953\"],[0.7777777777777778,\"#fb9f3a\"],[0.8888888888888888,\"#fdca26\"],[1.0,\"#f0f921\"]],\"type\":\"surface\"}],\"table\":[{\"cells\":{\"fill\":{\"color\":\"#EBF0F8\"},\"line\":{\"color\":\"white\"}},\"header\":{\"fill\":{\"color\":\"#C8D4E3\"},\"line\":{\"color\":\"white\"}},\"type\":\"table\"}]},\"layout\":{\"annotationdefaults\":{\"arrowcolor\":\"#2a3f5f\",\"arrowhead\":0,\"arrowwidth\":1},\"autotypenumbers\":\"strict\",\"coloraxis\":{\"colorbar\":{\"outlinewidth\":0,\"ticks\":\"\"}},\"colorscale\":{\"diverging\":[[0,\"#8e0152\"],[0.1,\"#c51b7d\"],[0.2,\"#de77ae\"],[0.3,\"#f1b6da\"],[0.4,\"#fde0ef\"],[0.5,\"#f7f7f7\"],[0.6,\"#e6f5d0\"],[0.7,\"#b8e186\"],[0.8,\"#7fbc41\"],[0.9,\"#4d9221\"],[1,\"#276419\"]],\"sequential\":[[0.0,\"#0d0887\"],[0.1111111111111111,\"#46039f\"],[0.2222222222222222,\"#7201a8\"],[0.3333333333333333,\"#9c179e\"],[0.4444444444444444,\"#bd3786\"],[0.5555555555555556,\"#d8576b\"],[0.6666666666666666,\"#ed7953\"],[0.7777777777777778,\"#fb9f3a\"],[0.8888888888888888,\"#fdca26\"],[1.0,\"#f0f921\"]],\"sequentialminus\":[[0.0,\"#0d0887\"],[0.1111111111111111,\"#46039f\"],[0.2222222222222222,\"#7201a8\"],[0.3333333333333333,\"#9c179e\"],[0.4444444444444444,\"#bd3786\"],[0.5555555555555556,\"#d8576b\"],[0.6666666666666666,\"#ed7953\"],[0.7777777777777778,\"#fb9f3a\"],[0.8888888888888888,\"#fdca26\"],[1.0,\"#f0f921\"]]},\"colorway\":[\"#636efa\",\"#EF553B\",\"#00cc96\",\"#ab63fa\",\"#FFA15A\",\"#19d3f3\",\"#FF6692\",\"#B6E880\",\"#FF97FF\",\"#FECB52\"],\"font\":{\"color\":\"#2a3f5f\"},\"geo\":{\"bgcolor\":\"white\",\"lakecolor\":\"white\",\"landcolor\":\"#E5ECF6\",\"showlakes\":true,\"showland\":true,\"subunitcolor\":\"white\"},\"hoverlabel\":{\"align\":\"left\"},\"hovermode\":\"closest\",\"mapbox\":{\"style\":\"light\"},\"paper_bgcolor\":\"white\",\"plot_bgcolor\":\"#E5ECF6\",\"polar\":{\"angularaxis\":{\"gridcolor\":\"white\",\"linecolor\":\"white\",\"ticks\":\"\"},\"bgcolor\":\"#E5ECF6\",\"radialaxis\":{\"gridcolor\":\"white\",\"linecolor\":\"white\",\"ticks\":\"\"}},\"scene\":{\"xaxis\":{\"backgroundcolor\":\"#E5ECF6\",\"gridcolor\":\"white\",\"gridwidth\":2,\"linecolor\":\"white\",\"showbackground\":true,\"ticks\":\"\",\"zerolinecolor\":\"white\"},\"yaxis\":{\"backgroundcolor\":\"#E5ECF6\",\"gridcolor\":\"white\",\"gridwidth\":2,\"linecolor\":\"white\",\"showbackground\":true,\"ticks\":\"\",\"zerolinecolor\":\"white\"},\"zaxis\":{\"backgroundcolor\":\"#E5ECF6\",\"gridcolor\":\"white\",\"gridwidth\":2,\"linecolor\":\"white\",\"showbackground\":true,\"ticks\":\"\",\"zerolinecolor\":\"white\"}},\"shapedefaults\":{\"line\":{\"color\":\"#2a3f5f\"}},\"ternary\":{\"aaxis\":{\"gridcolor\":\"white\",\"linecolor\":\"white\",\"ticks\":\"\"},\"baxis\":{\"gridcolor\":\"white\",\"linecolor\":\"white\",\"ticks\":\"\"},\"bgcolor\":\"#E5ECF6\",\"caxis\":{\"gridcolor\":\"white\",\"linecolor\":\"white\",\"ticks\":\"\"}},\"title\":{\"x\":0.05},\"xaxis\":{\"automargin\":true,\"gridcolor\":\"white\",\"linecolor\":\"white\",\"ticks\":\"\",\"title\":{\"standoff\":15},\"zerolinecolor\":\"white\",\"zerolinewidth\":2},\"yaxis\":{\"automargin\":true,\"gridcolor\":\"white\",\"linecolor\":\"white\",\"ticks\":\"\",\"title\":{\"standoff\":15},\"zerolinecolor\":\"white\",\"zerolinewidth\":2}}},\"scene\":{\"domain\":{\"x\":[0.0,1.0],\"y\":[0.0,1.0]},\"xaxis\":{\"title\":{\"text\":\"danceability\"}},\"yaxis\":{\"title\":{\"text\":\"energy\"}},\"zaxis\":{\"title\":{\"text\":\"acousticness\"}}},\"coloraxis\":{\"colorbar\":{\"title\":{\"text\":\"cluster\"}},\"colorscale\":[[0.0,\"#0d0887\"],[0.1111111111111111,\"#46039f\"],[0.2222222222222222,\"#7201a8\"],[0.3333333333333333,\"#9c179e\"],[0.4444444444444444,\"#bd3786\"],[0.5555555555555556,\"#d8576b\"],[0.6666666666666666,\"#ed7953\"],[0.7777777777777778,\"#fb9f3a\"],[0.8888888888888888,\"#fdca26\"],[1.0,\"#f0f921\"]]},\"legend\":{\"tracegroupgap\":0},\"margin\":{\"t\":60}},                        {\"responsive\": true}                    ).then(function(){\n",
       "                            \n",
       "var gd = document.getElementById('cd2c74aa-4c6f-4219-99bf-332f5236d342');\n",
       "var x = new MutationObserver(function (mutations, observer) {{\n",
       "        var display = window.getComputedStyle(gd).display;\n",
       "        if (!display || display === 'none') {{\n",
       "            console.log([gd, 'removed!']);\n",
       "            Plotly.purge(gd);\n",
       "            observer.disconnect();\n",
       "        }}\n",
       "}});\n",
       "\n",
       "// Listen for the removal of the full notebook cells\n",
       "var notebookContainer = gd.closest('#notebook-container');\n",
       "if (notebookContainer) {{\n",
       "    x.observe(notebookContainer, {childList: true});\n",
       "}}\n",
       "\n",
       "// Listen for the clearing of the current output cell\n",
       "var outputEl = gd.closest('.output');\n",
       "if (outputEl) {{\n",
       "    x.observe(outputEl, {childList: true});\n",
       "}}\n",
       "\n",
       "                        })                };                });            </script>        </div>"
      ]
     },
     "metadata": {},
     "output_type": "display_data"
    }
   ],
   "source": [
    "from sklearn.cluster import KMeans\n",
    "import numpy as np\n",
    "import matplotlib.pyplot as plt\n",
    "import plotly.express as px\n",
    "import plotly.graph_objs as go\n",
    "\n",
    "n_clusters = 4\n",
    "kmeans = KMeans(n_clusters=n_clusters, random_state=42)\n",
    "kmeans.fit(X)\n",
    "labels = kmeans.predict(X)\n",
    "X['cluster'] = labels\n",
    "\n",
    "fig = px.scatter_3d(X, x=X.columns[0], y=X.columns[1], z=X.columns[6], color='cluster')\n",
    "fig.show()\n"
   ]
  },
  {
   "cell_type": "code",
   "execution_count": null,
   "id": "8681b17a",
   "metadata": {},
   "outputs": [],
   "source": [
    "fig = px.scatter_3d(X, x=X.columns[0], y=X.columns[1], z=X.columns[2], color='cluster')\n",
    "fig.show()"
   ]
  },
  {
   "cell_type": "code",
   "execution_count": 59,
   "id": "780d5e86",
   "metadata": {},
   "outputs": [
    {
     "data": {
      "text/plain": [
       "{'HUMBLE.': 1159,\n",
       " 'Congratulations': 1156,\n",
       " 'Bad and Boujee (feat. Lil Uzi Vert)': 1069,\n",
       " 'goosebumps': 916,\n",
       " 'Broccoli (feat. Lil Yachty)': 904,\n",
       " 'XO TOUR Llif3': 852,\n",
       " 'Mask Off': 765,\n",
       " 'iSpy (feat. Lil Yachty)': 741,\n",
       " 'Caroline': 669,\n",
       " 'Bounce Back': 652,\n",
       " 'No Problem (feat. Lil Wayne & 2 Chainz)': 636,\n",
       " 'T-Shirt': 568,\n",
       " 'Jumpman': 467,\n",
       " 'Closer': 464,\n",
       " 'No Role Modelz': 435,\n",
       " 'Forever': 361,\n",
       " 'Black Beatles': 347,\n",
       " 'Slippery (feat. Gucci Mane)': 343,\n",
       " 'Antidote': 334,\n",
       " 'Swang': 324,\n",
       " 'Location': 324,\n",
       " 'One Dance': 320,\n",
       " \"I Don't Fuck With You\": 294,\n",
       " 'DNA.': 293,\n",
       " 'Drowning (feat. Kodak Black)': 281,\n",
       " 'Roses': 244,\n",
       " 'Bank Account': 240,\n",
       " 'Tunnel Vision': 218,\n",
       " 'X (feat. Future)': 206,\n",
       " 'Stay': 203,\n",
       " 'Magnolia': 191,\n",
       " 'Fake Love': 179,\n",
       " 'Unforgettable': 177,\n",
       " 'No Type': 175,\n",
       " 'Home': 175,\n",
       " 'rockstar': 170,\n",
       " 'Let Me Love You': 169,\n",
       " 'Trap Queen': 168,\n",
       " \"F**kin' Problems\": 166,\n",
       " 'Alright': 165,\n",
       " \"Don't Let Me Down\": 159,\n",
       " 'Blessings': 153,\n",
       " 'Springsteen': 153,\n",
       " 'Play It Again': 146,\n",
       " 'Die A Happy Man': 143,\n",
       " 'Butterfly Effect': 141,\n",
       " 'pick up the phone': 140,\n",
       " 'Starboy': 139,\n",
       " 'You Was Right': 138,\n",
       " 'Sorry': 134,\n",
       " \"Burnin' It Down\": 130,\n",
       " 'Wagon Wheel': 129,\n",
       " 'Cruise': 127,\n",
       " 'Chicken Fried': 127,\n",
       " \"I Don't Dance\": 127,\n",
       " 'Selfish': 126,\n",
       " 'Ni**as In Paris': 124,\n",
       " 'This Is How We Roll': 123,\n",
       " 'Bodak Yellow': 119,\n",
       " 'Panda': 118,\n",
       " 'Barefoot Blue Jean Night': 117,\n",
       " 'H.O.L.Y.': 108,\n",
       " 'Portland': 108,\n",
       " \"Don't\": 106,\n",
       " 'Ride': 104,\n",
       " 'Deja Vu': 102,\n",
       " 'Drunk On You': 99,\n",
       " 'Silent Night': 96,\n",
       " 'Low Life': 92,\n",
       " 'It Goes Like This': 92,\n",
       " 'Somewhere On A Beach': 89,\n",
       " 'm.A.A.d city': 82,\n",
       " 'Back To Back': 82,\n",
       " 'Drinking class': 81,\n",
       " 'Come Get Her': 77,\n",
       " 'Dirt Road Anthem': 76,\n",
       " 'White Iverson': 71,\n",
       " 'Gold': 71,\n",
       " 'No Hands (feat. Roscoe Dash and Wale) - Explicit Album Version': 67,\n",
       " 'Come and See Me (feat. Drake)': 65,\n",
       " 'Down': 65,\n",
       " 'Chill Bill': 64,\n",
       " 'Make You Miss Me': 63,\n",
       " 'Despacito - Remix': 61,\n",
       " 'Losin Control': 54,\n",
       " 'Exchange': 49,\n",
       " 'Jungle': 48,\n",
       " 'Money Longer': 46,\n",
       " 'Who Do You Love?': 45,\n",
       " 'Needed Me': 45,\n",
       " 'Rake It Up': 45,\n",
       " 'Go Flex': 43,\n",
       " 'Sangria': 42,\n",
       " 'Clique': 41,\n",
       " 'The Motto': 41,\n",
       " 'Flex (Ooh, Ooh, Ooh)': 40,\n",
       " '679 (feat. Remy Boyz)': 40,\n",
       " 'Round Here': 39,\n",
       " 'Leave The Night On': 38,\n",
       " 'Mercy': 38,\n",
       " 'Energy': 36,\n",
       " 'White Christmas': 36,\n",
       " 'Drama (feat. Drake)': 35,\n",
       " 'Wet Dreamz': 34,\n",
       " 'Redbone': 34,\n",
       " 'No Heart': 33,\n",
       " 'She Will': 33,\n",
       " 'Love Me': 33,\n",
       " 'Hotline Bling': 30,\n",
       " 'A Milli': 29,\n",
       " 'Have Yourself A Merry Little Christmas': 29,\n",
       " 'Moves Like Jagger - Studio Recording From The Voice Performance': 28,\n",
       " 'Stronger': 28,\n",
       " '4 AM': 28,\n",
       " 'Winter Wonderland': 28,\n",
       " 'POWER': 27,\n",
       " 'Work REMIX': 27,\n",
       " 'Backseat Freestyle': 26,\n",
       " 'Hot N*gga': 25,\n",
       " 'Same Drugs': 25,\n",
       " 'Bitch, Don’t Kill My Vibe': 24,\n",
       " \"Whatever She's Got\": 23,\n",
       " 'Rich As Fuck': 23,\n",
       " 'G.O.M.D.': 22,\n",
       " '6 Foot 7 Foot': 22,\n",
       " \"That's My Kind Of Night\": 22,\n",
       " 'First Day Out': 21,\n",
       " 'Head Over Boots': 21,\n",
       " \"Blue Ain't Your Color\": 20,\n",
       " 'Night Train': 20,\n",
       " 'With You': 20,\n",
       " 'No Flockin': 20,\n",
       " \"I'm the One\": 20,\n",
       " 'oui': 19,\n",
       " 'Too Good': 19,\n",
       " 'Fight Night': 18,\n",
       " 'V. 3005': 18,\n",
       " 'The Hills': 17,\n",
       " 'HeadBand (feat. 2 Chainz)': 17,\n",
       " \"That's What I Like\": 17,\n",
       " 'Fancy': 17,\n",
       " 'How To Love': 17,\n",
       " 'Planez': 16,\n",
       " '1-800-273-8255': 16,\n",
       " \"Boys 'Round Here (feat. Pistol Annies & Friends)\": 16,\n",
       " 'All Me': 16,\n",
       " 'Bottoms Up': 16,\n",
       " \"Highway Don't Care\": 16,\n",
       " 'Tiimmy Turner': 15,\n",
       " 'Sorry Not Sorry': 15,\n",
       " \"We Can't Stop\": 15,\n",
       " 'Young, Wild & Free (feat. Bruno Mars) - feat. Bruno Mars': 15,\n",
       " 'Swimming Pools (Drank)': 15,\n",
       " 'Country Girl (Shake It For Me)': 15,\n",
       " 'Kick The Dust Up': 15,\n",
       " 'Sober': 14,\n",
       " 'Young Dumb & Broke': 14,\n",
       " \"'Till I Collapse\": 14,\n",
       " 'Studio': 13,\n",
       " 'Blunt Blowin': 13,\n",
       " 'In Da Club': 12,\n",
       " 'I Fall Apart': 12,\n",
       " 'What They Want': 12,\n",
       " 'Drop The World': 12,\n",
       " 'Ayy Ladies': 12,\n",
       " 'Radioactive': 11,\n",
       " 'The Show Goes On': 11,\n",
       " 'Collard Greens': 11,\n",
       " 'The Next Episode': 10,\n",
       " 'do re mi': 10,\n",
       " 'The Way Life Goes (feat. Oh Wonder)': 10,\n",
       " 'No Love': 10,\n",
       " 'Lose Yourself - Soundtrack Version': 10,\n",
       " 'Paris': 10,\n",
       " 'Candy Paint': 10,\n",
       " '$ave Dat Money (feat. Fetty Wap & Rich Homie Quan)': 10,\n",
       " 'My Shit': 9,\n",
       " 'We Own It (Fast & Furious)': 9,\n",
       " 'Turn Down for What': 9,\n",
       " 'Mirror': 9,\n",
       " 'Jump Out The Face (feat. Future)': 9,\n",
       " \"All We Got (feat. Kanye West & Chicago Children's Choir)\": 8,\n",
       " 'Monster': 7,\n",
       " 'Juke Jam (feat. Justin Bieber & Towkio)': 7,\n",
       " 'STFU': 7,\n",
       " 'I Will Not Bow': 7,\n",
       " 'LOYALTY. FEAT. RIHANNA.': 7,\n",
       " 'Wake Me Up - Radio Edit': 7,\n",
       " \"Can't Hold Us - feat. Ray Dalton\": 7,\n",
       " 'Gold Digger': 7,\n",
       " 'Dark Horse': 7,\n",
       " 'Thrift Shop (feat. Wanz)': 7,\n",
       " 'Blurred Lines': 7,\n",
       " 'Slow Motion': 7,\n",
       " 'Deadroses': 7,\n",
       " 'Throw Sum Mo': 7,\n",
       " 'Slide': 7,\n",
       " 'Check': 6,\n",
       " 'No Lie': 6,\n",
       " 'Passionfruit': 6,\n",
       " 'Jocelyn Flores': 6,\n",
       " 'Bohemian Rhapsody - Remastered 2011': 6,\n",
       " 'All Night': 6,\n",
       " 'Talk Dirty (feat. 2 Chainz)': 6,\n",
       " \"i hate u, i love u (feat. olivia o'brien)\": 6,\n",
       " 'Too Many Years': 6,\n",
       " 'Shabba': 5,\n",
       " 'Where Ya At': 5,\n",
       " 'Preach': 5,\n",
       " 'Headlines': 5,\n",
       " 'Jump Out The Window': 5,\n",
       " 'In The End': 5,\n",
       " 'Sunshine Of Your Love': 5,\n",
       " 'Snow (Hey Oh) - Hey Oh Album Version': 5,\n",
       " 'wokeuplikethis*': 5,\n",
       " 'Relationship (feat. Future)': 5,\n",
       " 'Rap God': 5,\n",
       " 'Big Lie': 5,\n",
       " 'Chillin': 5,\n",
       " 'Light': 5,\n",
       " 'My Last': 5,\n",
       " 'Say Something (Featuring Drake)': 5,\n",
       " 'make daddy proud': 5,\n",
       " 'Nothing But Trouble - Instagram Models': 5,\n",
       " 'Horses (with PnB Rock, Kodak Black & A Boogie Wit da Hoodie)': 5,\n",
       " 'Roll In Peace (feat. XXXTENTACION)': 5,\n",
       " 'The Race': 5,\n",
       " 'Rolex': 5,\n",
       " 'Wiggle (feat. Snoop Dogg)': 5,\n",
       " 'There He Go': 5,\n",
       " 'Lord Pretty Flacko Jodye 2 (LPFJ2)': 4,\n",
       " \"M'$\": 4,\n",
       " 'R.I.C.O. (feat. Drake)': 4,\n",
       " '9': 4,\n",
       " 'Up All Night': 4,\n",
       " 'Reminder': 4,\n",
       " 'Do My Thang': 4,\n",
       " 'More Than a Feeling': 4,\n",
       " 'Paradise City': 4,\n",
       " 'Enter Sandman': 4,\n",
       " 'Californication': 4,\n",
       " 'One': 4,\n",
       " 'Stairway To Heaven': 4,\n",
       " 'Whole Lotta Love': 4,\n",
       " 'Behind Blue Eyes': 4,\n",
       " 'Highway to Hell': 4,\n",
       " 'Never Too Late': 4,\n",
       " \"Can't Stop\": 4,\n",
       " 'Have Faith In Me': 4,\n",
       " 'Bad Company': 4,\n",
       " '24K Magic': 4,\n",
       " 'Cocoon': 4,\n",
       " 'Fetish (feat. Gucci Mane)': 4,\n",
       " 'American Teen': 4,\n",
       " 'Lose It': 4,\n",
       " 'Famous': 4,\n",
       " 'Cough Syrup': 4,\n",
       " 'Sweater Weather': 4,\n",
       " 'XO': 4,\n",
       " 'My Nigga': 4,\n",
       " \"It's A Vibe\": 4,\n",
       " 'Unsteady': 4,\n",
       " 'Right My Wrongs': 4,\n",
       " 'Redemption': 4,\n",
       " 'Shot For Me': 4,\n",
       " '23': 4,\n",
       " 'So Good': 4,\n",
       " 'Trumpets': 4,\n",
       " 'King Kunta': 4,\n",
       " 'Be Real': 4,\n",
       " 'Type of Way': 4,\n",
       " 'Everyday': 4,\n",
       " 'F*ck Up Some Commas': 4,\n",
       " 'March Madness': 4,\n",
       " 'Everyday We Lit (feat. PnB Rock)': 4,\n",
       " 'Crew': 4,\n",
       " 'Old English': 3,\n",
       " 'Pop That': 3,\n",
       " '10 Bands': 3,\n",
       " 'Know Yourself': 3,\n",
       " '6 God': 3,\n",
       " 'Best I Ever Had': 3,\n",
       " 'Recognize (feat. Drake)': 3,\n",
       " 'Wu-Tang Forever': 3,\n",
       " 'Worst Behavior': 3,\n",
       " 'Love': 3,\n",
       " 'Party Monster': 3,\n",
       " 'The Love Club': 3,\n",
       " 'Stay Together': 3,\n",
       " 'Afraid': 3,\n",
       " 'Dirty Laundry': 3,\n",
       " 'Toes': 3,\n",
       " 'Supermarket Flowers': 3,\n",
       " 'Thank You': 3,\n",
       " 'Everybody Dies In Their Nightmares': 3,\n",
       " 'Perfect': 3,\n",
       " 'In the Name of Love': 3,\n",
       " 'Problem': 3,\n",
       " 'Hollaback Girl': 3,\n",
       " 'No Scrubs': 3,\n",
       " 'Hey Ya! - Radio Mix / Club Mix': 3,\n",
       " 'Welcome To The Jungle': 3,\n",
       " 'Yeah!': 3,\n",
       " 'Thinkin Bout You': 3,\n",
       " 'You Found Me': 3,\n",
       " 'Skinny Love': 3,\n",
       " 'Childs Play': 3,\n",
       " 'Hello': 3,\n",
       " 'I Got the Keys': 3,\n",
       " 'Still Here': 3,\n",
       " 'Sleigh Ride': 3,\n",
       " 'Erase Your Social': 3,\n",
       " 'Lean On (feat. MØ & DJ Snake)': 3,\n",
       " 'What I Got': 3,\n",
       " 'Remember The Name (feat. Styles Of Beyond)': 2,\n",
       " 'Satellites (feat. Wiz Khalifa) - HPG Remix': 2,\n",
       " 'Paper Chasers': 2,\n",
       " 'Arms Of A Stranger': 2,\n",
       " 'Twilight [War With God]': 2,\n",
       " 'Thuggin Hard': 2,\n",
       " 'No Shopping': 2,\n",
       " 'White Walls (feat. ScHoolboy Q, Hollis)': 2}"
      ]
     },
     "execution_count": 59,
     "metadata": {},
     "output_type": "execute_result"
    }
   ],
   "source": [
    "from collections import Counter\n",
    "\n",
    "def find_related_tracks(track_name, playlists):\n",
    "    track_playlists = []\n",
    "    for playlist in playlists:\n",
    "        for track in playlist['tracks']:\n",
    "            if track_name in track['track_name']:\n",
    "                track_playlists.append(playlist['name'])\n",
    "                break\n",
    "    track_counts = {}\n",
    "    for playlist in playlists:\n",
    "        for track in playlist['tracks']:\n",
    "            if track['track_name'] != track_name and playlist['name'] in track_playlists:\n",
    "                track_counts[track['track_name']] = track_counts.get(track['track_name'], 0) + 1\n",
    "    return dict(sorted(track_counts.items(), key=lambda x: x[1], reverse=True)[:20])\n",
    "\n",
    "def similar_playlist(playlist_name, playlists):\n",
    "    similar_tracks = {}\n",
    "    # find related songs for each track\n",
    "    for track in playlist_name['tracks']:\n",
    "        related = find_related_tracks(track['track_name'], playlists)\n",
    "        \n",
    "        # combine values having the same key\n",
    "        for key, value in related.items():\n",
    "            similar_tracks[key] = similar_tracks.get(key, 0) + value\n",
    "\n",
    "    return dict(sorted(similar_tracks.items(), key=lambda x: x[1], reverse=True))\n",
    "\n",
    "similar_playlist(playlists[10], playlists)"
   ]
  },
  {
   "cell_type": "code",
   "execution_count": null,
   "id": "d4304771",
   "metadata": {},
   "outputs": [],
   "source": []
  }
 ],
 "metadata": {
  "kernelspec": {
   "display_name": "Python 3 (ipykernel)",
   "language": "python",
   "name": "python3"
  },
  "language_info": {
   "codemirror_mode": {
    "name": "ipython",
    "version": 3
   },
   "file_extension": ".py",
   "mimetype": "text/x-python",
   "name": "python",
   "nbconvert_exporter": "python",
   "pygments_lexer": "ipython3",
   "version": "3.8.15"
  }
 },
 "nbformat": 4,
 "nbformat_minor": 5
}
