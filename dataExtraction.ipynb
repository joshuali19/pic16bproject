{
 "cells": [
  {
   "cell_type": "markdown",
   "id": "1bb1e262-3812-4f3f-b445-ed76a3ae6ddc",
   "metadata": {},
   "source": [
    "## Extract Data"
   ]
  },
  {
   "cell_type": "code",
   "execution_count": 1,
   "id": "994b1174-a52c-47b3-8bca-365decce0471",
   "metadata": {
    "tags": []
   },
   "outputs": [],
   "source": [
    "# importing required modules\n",
    "from zipfile import ZipFile\n",
    "\n",
    "# ***** RUN THIS ONCE *****\n",
    "# specifying the zip file name\n",
    "# file_name = \"spotify_million_playlist_dataset.zip\"\n",
    "\n",
    "# opening the zip file in READ mode\n",
    "# with ZipFile(file_name, 'r') as zip:\n",
    "    # printing all the contents of the zip file\n",
    "    # zip.printdir()\n",
    "#     i = 0\n",
    "#     print('Extracting all the files now...')\n",
    "#     for name in zip.namelist():\n",
    "#         if i > 20:\n",
    "#             break\n",
    "        \n",
    "        # get the first 20 data files\n",
    " #        if name.startswith(\"data/m\"):\n",
    "#             zip.extract(name)\n",
    "#             print(name)\n",
    "#             i += 1\n",
    "       \n",
    "#     print('Done!')\n",
    "    # extracting all the files\n",
    "    # print('Extracting all the files now...')\n",
    "    # zip.extractall()\n",
    "    # print('Done!')"
   ]
  },
  {
   "cell_type": "code",
   "execution_count": 2,
   "id": "bb6e0439-eb93-46f7-91fa-2fa036c18395",
   "metadata": {},
   "outputs": [
    {
     "name": "stdout",
     "output_type": "stream",
     "text": [
      "mpd.slice.115000-115999.json\n",
      "mpd.slice.193000-193999.json\n",
      "mpd.slice.225000-225999.json\n",
      "mpd.slice.290000-290999.json\n",
      "mpd.slice.324000-324999.json\n",
      "mpd.slice.38000-38999.json\n",
      "mpd.slice.391000-391999.json\n",
      "mpd.slice.422000-422999.json\n",
      "mpd.slice.448000-448999.json\n",
      "mpd.slice.497000-497999.json\n",
      "mpd.slice.523000-523999.json\n",
      "mpd.slice.549000-549999.json\n",
      "mpd.slice.596000-596999.json\n",
      "mpd.slice.613000-613999.json\n",
      "mpd.slice.679000-679999.json\n",
      "mpd.slice.695000-695999.json\n",
      "mpd.slice.7000-7999.json\n",
      "mpd.slice.712000-712999.json\n",
      "mpd.slice.778000-778999.json\n",
      "mpd.slice.875000-875999.json\n"
     ]
    }
   ],
   "source": [
    "import os\n",
    "import json\n",
    "def loop_slices(path, num_slices=20):\n",
    "    cnt = 0\n",
    "    mpd_playlists = []\n",
    "    filenames = os.listdir(path)\n",
    "    for fname in sorted(filenames):\n",
    "        print(fname)\n",
    "        if fname.startswith(\"mpd.slice.\") and fname.endswith(\".json\"):\n",
    "            cnt += 1\n",
    "            fullpath = os.sep.join((path, fname))\n",
    "            f = open(fullpath)\n",
    "            js = f.read()\n",
    "            f.close()\n",
    "            current_slice = json.loads(js)\n",
    "            # Create a list of all playlists\n",
    "            for playlist in current_slice['playlists']:\n",
    "                mpd_playlists.append(playlist)\n",
    "            if cnt == num_slices:\n",
    "                break\n",
    "    return mpd_playlists\n",
    "# Path where the json files are extracted\n",
    "path = 'data/'\n",
    "playlists = loop_slices(path, num_slices=20)"
   ]
  },
  {
   "cell_type": "markdown",
   "id": "9aeadc2b-f5a9-4f7a-9a8a-592b4730780b",
   "metadata": {},
   "source": [
    "## Get Spotify API Data"
   ]
  },
  {
   "cell_type": "code",
   "execution_count": 3,
   "id": "652de0b3-93b3-486a-a6b1-416c448150a6",
   "metadata": {},
   "outputs": [],
   "source": [
    "import spotipy\n",
    "from spotipy.oauth2 import SpotifyClientCredentials\n",
    "import pandas as pd\n",
    "# from tqdm import tqdm\n",
    "# Spotify credentials\n",
    "os.environ[\"SPOTIPY_CLIENT_ID\"] = \"bdf64242b8364ab5b264d3c14e8e9af6\"\n",
    "os.environ[\"SPOTIPY_CLIENT_SECRET\"] = \"3ed931eb80d8412292a50a10ed96e611\"\n",
    "os.environ['SPOTIPY_REDIRECT_URI'] = \"http://localhost:5001\"\n",
    "sp = spotipy.Spotify(client_credentials_manager =      \n",
    "                     SpotifyClientCredentials())\n",
    "cols_to_keep = ['danceability', 'energy', 'key', 'loudness', 'mode', 'speechiness', 'acousticness', 'instrumentalness', 'liveness', 'valence', 'tempo', 'duration_ms', 'time_signature']\n",
    "dfs = []\n",
    "for playlist in playlists[0:5]:\n",
    "    audio_feats = []\n",
    "    for track in playlist['tracks']:\n",
    "        track_uri = track['track_uri'].split(\":\")[2]\n",
    "        feature = sp.audio_features(track_uri)\n",
    "        if feature:\n",
    "            audio_feats.append(feature[0])\n",
    "    feats = pd.DataFrame(audio_feats)[cols_to_keep]\n",
    "    feats['name'] = playlist['name']\n",
    "    feats['pid'] = playlist['pid']\n",
    "    # avg_feats = pd.DataFrame(audio_feats)[cols_to_keep].mean()\n",
    "    # avg_feats['name'] = playlist['name']\n",
    "    # avg_feats['pid'] = playlist['pid']\n",
    "    dfs.append(feats.T)"
   ]
  }
 ],
 "metadata": {
  "kernelspec": {
   "display_name": "Python [conda env:PIC16B] *",
   "language": "python",
   "name": "conda-env-PIC16B-py"
  },
  "language_info": {
   "codemirror_mode": {
    "name": "ipython",
    "version": 3
   },
   "file_extension": ".py",
   "mimetype": "text/x-python",
   "name": "python",
   "nbconvert_exporter": "python",
   "pygments_lexer": "ipython3",
   "version": "3.8.15"
  }
 },
 "nbformat": 4,
 "nbformat_minor": 5
}
